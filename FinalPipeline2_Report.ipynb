{
 "cells": [
  {
   "cell_type": "markdown",
   "metadata": {},
   "source": [
    "**FinalPipeline2.ipynb report**\n",
    "\n",
    "We use numerical_columns instead of processed_text\n",
    "\n",
    "**1. Introduction:**\n",
    "Cyberbullying has become a prevalent issue in online platforms, with detrimental effects on individuals' mental health and well-being. Detecting and mitigating cyberbullying is essential to create safer online environments. This report presents a detailed analysis of a Natural Language Processing (NLP) pipeline designed for cyberbullying detection using machine learning techniques. The pipeline processes textual data extracted from YouTube comments, employs feature engineering, model training, and evaluation to classify comments as cyberbullying or non-cyberbullying.\n",
    "\n",
    "**2. Data Preprocessing:**\n",
    "The pipeline begins by reading the dataset from a CSV file, which typically includes features such as user information (e.g., number of comments, number of subscribers, membership duration, number of uploads), and textual data (the comments themselves). The 'Text' column containing the comments undergoes several preprocessing steps, including tokenization, converting text to lowercase, removing non-alphanumeric characters, and eliminating stopwords. These steps are crucial to standardize the text data and remove noise, enabling the models to focus on meaningful patterns.\n",
    "\n",
    "**3. Feature Selection:**\n",
    "After preprocessing, the pipeline selects relevant numerical features for modeling. Features such as the number of comments, number of subscribers, membership duration, number of uploads, profanity in the user ID, and the age of the user are often indicative of user behavior and engagement on the platform. These features provide valuable information for the classification task. Additionally, to address class imbalance issues inherent in cyberbullying datasets, the pipeline employs Random Over Sampling to balance the classes in the training data, ensuring that the models learn from a representative sample of both cyberbullying and non-cyberbullying instances.\n",
    "\n",
    "**4. Model Training and Evaluation:**\n",
    "The pipeline evaluates the performance of several machine learning models, including Logistic Regression, Random Forest, XGBoost, Support Vector Machine (SVM), and Decision Tree. Each model is trained on the resampled training data and evaluated using various metrics, including accuracy, area under the ROC curve (AUC), confusion matrix, and classification report. These metrics provide insights into the models' ability to correctly classify instances of cyberbullying and non-cyberbullying comments.\n",
    "\n",
    "**5. Results and Analysis:**\n",
    "The results of the evaluation demonstrate the effectiveness of the different models in detecting cyberbullying. The Random Forest model exhibits superior performance, achieving a high accuracy of approximately 94.83% and an impressive AUC of about 99.75%. This suggests that Random Forest effectively captures complex patterns in the data and generalizes well to unseen instances. XGBoost also performs well, with an accuracy of approximately 89.66% and an AUC of approximately 95.61%. Logistic Regression and SVM exhibit moderate performance, with accuracies of around 58.82% and 58.65%, respectively, indicating their limited effectiveness in this context. Decision Tree performs reasonably well, with an accuracy of approximately 92.04% and an AUC of approximately 92.62%.\n",
    "\n",
    "**6. Conclusion:**\n",
    "In conclusion, the NLP pipeline for cyberbullying detection demonstrates the potential of machine learning techniques in identifying and mitigating online harassment. The Random Forest model emerges as the top performer, showcasing its ability to effectively classify cyberbullying instances. However, further optimization and fine-tuning of hyperparameters could enhance the performance of other models as well. Additionally, incorporating more sophisticated NLP techniques and exploring ensemble methods could further improve the pipeline's efficacy in detecting cyberbullying in online platforms."
   ]
  },
  {
   "cell_type": "markdown",
   "metadata": {},
   "source": []
  }
 ],
 "metadata": {
  "language_info": {
   "name": "python"
  }
 },
 "nbformat": 4,
 "nbformat_minor": 2
}
