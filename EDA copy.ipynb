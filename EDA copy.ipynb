{
 "cells": [
  {
   "cell_type": "code",
   "execution_count": 4,
   "metadata": {},
   "outputs": [
    {
     "name": "stderr",
     "output_type": "stream",
     "text": [
      "[nltk_data] Downloading package punkt to C:\\Users\\Dhruv\n",
      "[nltk_data]     Sharma\\AppData\\Roaming\\nltk_data...\n",
      "[nltk_data]   Package punkt is already up-to-date!\n",
      "[nltk_data] Downloading package stopwords to C:\\Users\\Dhruv\n",
      "[nltk_data]     Sharma\\AppData\\Roaming\\nltk_data...\n",
      "[nltk_data]   Package stopwords is already up-to-date!\n",
      "[nltk_data] Downloading package wordnet to C:\\Users\\Dhruv\n",
      "[nltk_data]     Sharma\\AppData\\Roaming\\nltk_data...\n",
      "[nltk_data]   Package wordnet is already up-to-date!\n"
     ]
    },
    {
     "data": {
      "text/plain": [
       "True"
      ]
     },
     "execution_count": 4,
     "metadata": {},
     "output_type": "execute_result"
    }
   ],
   "source": [
    "import pandas as pd\n",
    "import numpy as np\n",
    "import matplotlib.pyplot as plt\n",
    "\n",
    "import nltk\n",
    "from nltk.corpus import stopwords\n",
    "from nltk.tokenize import word_tokenize\n",
    "from nltk.stem import PorterStemmer\n",
    "from nltk.stem import WordNetLemmatizer\n",
    "from sklearn.feature_extraction.text import CountVectorizer\n",
    "from sklearn.decomposition import LatentDirichletAllocation\n",
    "from sklearn.feature_extraction.text import TfidfVectorizer\n",
    "\n",
    "from sklearn.decomposition import NMF\n",
    "from sklearn.feature_extraction.text import ENGLISH_STOP_WORDS\n",
    "from textblob import TextBlob\n",
    "import spacy\n",
    "\n",
    "# Download NLTK resources\n",
    "nltk.download('punkt')\n",
    "nltk.download('stopwords')\n",
    "nltk.download('wordnet')"
   ]
  },
  {
   "cell_type": "code",
   "execution_count": 5,
   "metadata": {},
   "outputs": [],
   "source": [
    "# reading the filre\n",
    "df = pd.read_csv('cyberbullying/youtube_parsed_dataset.csv')"
   ]
  },
  {
   "cell_type": "code",
   "execution_count": 6,
   "metadata": {},
   "outputs": [
    {
     "data": {
      "text/html": [
       "<div>\n",
       "<style scoped>\n",
       "    .dataframe tbody tr th:only-of-type {\n",
       "        vertical-align: middle;\n",
       "    }\n",
       "\n",
       "    .dataframe tbody tr th {\n",
       "        vertical-align: top;\n",
       "    }\n",
       "\n",
       "    .dataframe thead th {\n",
       "        text-align: right;\n",
       "    }\n",
       "</style>\n",
       "<table border=\"1\" class=\"dataframe\">\n",
       "  <thead>\n",
       "    <tr style=\"text-align: right;\">\n",
       "      <th></th>\n",
       "      <th>index</th>\n",
       "      <th>UserIndex</th>\n",
       "      <th>Text</th>\n",
       "      <th>Number of Comments</th>\n",
       "      <th>Number of Subscribers</th>\n",
       "      <th>Membership Duration</th>\n",
       "      <th>Number of Uploads</th>\n",
       "      <th>Profanity in UserID</th>\n",
       "      <th>Age</th>\n",
       "      <th>oh_label</th>\n",
       "    </tr>\n",
       "  </thead>\n",
       "  <tbody>\n",
       "    <tr>\n",
       "      <th>0</th>\n",
       "      <td>0</td>\n",
       "      <td>X1</td>\n",
       "      <td>Does N.e.bodyelse Hear her Crazy ass Screamin ...</td>\n",
       "      <td>10</td>\n",
       "      <td>1</td>\n",
       "      <td>3</td>\n",
       "      <td>3</td>\n",
       "      <td>0</td>\n",
       "      <td>15</td>\n",
       "      <td>0</td>\n",
       "    </tr>\n",
       "    <tr>\n",
       "      <th>1</th>\n",
       "      <td>1</td>\n",
       "      <td>X2</td>\n",
       "      <td>There are so many things that are incorrect wi...</td>\n",
       "      <td>3</td>\n",
       "      <td>0</td>\n",
       "      <td>6</td>\n",
       "      <td>5</td>\n",
       "      <td>0</td>\n",
       "      <td>31</td>\n",
       "      <td>0</td>\n",
       "    </tr>\n",
       "    <tr>\n",
       "      <th>2</th>\n",
       "      <td>2</td>\n",
       "      <td>X3</td>\n",
       "      <td>3:26 hahah my boyfriend showed this song to me...</td>\n",
       "      <td>7</td>\n",
       "      <td>0</td>\n",
       "      <td>3</td>\n",
       "      <td>5</td>\n",
       "      <td>0</td>\n",
       "      <td>43</td>\n",
       "      <td>1</td>\n",
       "    </tr>\n",
       "    <tr>\n",
       "      <th>3</th>\n",
       "      <td>3</td>\n",
       "      <td>X2218</td>\n",
       "      <td>dick beyonce fuck y a ass hole you are truely ...</td>\n",
       "      <td>34</td>\n",
       "      <td>0</td>\n",
       "      <td>3</td>\n",
       "      <td>5</td>\n",
       "      <td>0</td>\n",
       "      <td>44</td>\n",
       "      <td>1</td>\n",
       "    </tr>\n",
       "    <tr>\n",
       "      <th>4</th>\n",
       "      <td>4</td>\n",
       "      <td>X5</td>\n",
       "      <td>DongHaeTaemin and Kai ;A; luhansehun and bacon...</td>\n",
       "      <td>11</td>\n",
       "      <td>173</td>\n",
       "      <td>5</td>\n",
       "      <td>5</td>\n",
       "      <td>0</td>\n",
       "      <td>21</td>\n",
       "      <td>0</td>\n",
       "    </tr>\n",
       "  </tbody>\n",
       "</table>\n",
       "</div>"
      ],
      "text/plain": [
       "   index UserIndex                                               Text  \\\n",
       "0      0        X1  Does N.e.bodyelse Hear her Crazy ass Screamin ...   \n",
       "1      1        X2  There are so many things that are incorrect wi...   \n",
       "2      2        X3  3:26 hahah my boyfriend showed this song to me...   \n",
       "3      3     X2218  dick beyonce fuck y a ass hole you are truely ...   \n",
       "4      4        X5  DongHaeTaemin and Kai ;A; luhansehun and bacon...   \n",
       "\n",
       "   Number of Comments  Number of Subscribers  Membership Duration  \\\n",
       "0                  10                      1                    3   \n",
       "1                   3                      0                    6   \n",
       "2                   7                      0                    3   \n",
       "3                  34                      0                    3   \n",
       "4                  11                    173                    5   \n",
       "\n",
       "   Number of Uploads  Profanity in UserID  Age  oh_label  \n",
       "0                  3                    0   15         0  \n",
       "1                  5                    0   31         0  \n",
       "2                  5                    0   43         1  \n",
       "3                  5                    0   44         1  \n",
       "4                  5                    0   21         0  "
      ]
     },
     "execution_count": 6,
     "metadata": {},
     "output_type": "execute_result"
    }
   ],
   "source": [
    "df.head()"
   ]
  },
  {
   "cell_type": "code",
   "execution_count": 7,
   "metadata": {},
   "outputs": [],
   "source": [
    "df = df.drop(['UserIndex', 'index'], axis=1)\n",
    "df.rename(columns={'oh_label': 'Label'}, inplace=True)\n",
    "\n"
   ]
  },
  {
   "cell_type": "code",
   "execution_count": 9,
   "metadata": {},
   "outputs": [
    {
     "data": {
      "text/plain": [
       "Index(['Text', 'Number of Comments', 'Number of Subscribers',\n",
       "       'Membership Duration', 'Number of Uploads', 'Profanity in UserID',\n",
       "       'Age', 'Label'],\n",
       "      dtype='object')"
      ]
     },
     "execution_count": 9,
     "metadata": {},
     "output_type": "execute_result"
    }
   ],
   "source": [
    "df.columns"
   ]
  },
  {
   "cell_type": "code",
   "execution_count": 10,
   "metadata": {},
   "outputs": [
    {
     "data": {
      "text/html": [
       "<div>\n",
       "<style scoped>\n",
       "    .dataframe tbody tr th:only-of-type {\n",
       "        vertical-align: middle;\n",
       "    }\n",
       "\n",
       "    .dataframe tbody tr th {\n",
       "        vertical-align: top;\n",
       "    }\n",
       "\n",
       "    .dataframe thead th {\n",
       "        text-align: right;\n",
       "    }\n",
       "</style>\n",
       "<table border=\"1\" class=\"dataframe\">\n",
       "  <thead>\n",
       "    <tr style=\"text-align: right;\">\n",
       "      <th></th>\n",
       "      <th>Number of Comments</th>\n",
       "      <th>Number of Subscribers</th>\n",
       "      <th>Membership Duration</th>\n",
       "      <th>Number of Uploads</th>\n",
       "      <th>Profanity in UserID</th>\n",
       "      <th>Age</th>\n",
       "      <th>Label</th>\n",
       "    </tr>\n",
       "  </thead>\n",
       "  <tbody>\n",
       "    <tr>\n",
       "      <th>count</th>\n",
       "      <td>3464.000000</td>\n",
       "      <td>3464.000000</td>\n",
       "      <td>3464.000000</td>\n",
       "      <td>3464.000000</td>\n",
       "      <td>3464.000000</td>\n",
       "      <td>3464.000000</td>\n",
       "      <td>3464.000000</td>\n",
       "    </tr>\n",
       "    <tr>\n",
       "      <th>mean</th>\n",
       "      <td>15.452367</td>\n",
       "      <td>304.318995</td>\n",
       "      <td>3.714781</td>\n",
       "      <td>10.288395</td>\n",
       "      <td>0.113164</td>\n",
       "      <td>24.879042</td>\n",
       "      <td>0.120381</td>\n",
       "    </tr>\n",
       "    <tr>\n",
       "      <th>std</th>\n",
       "      <td>10.862517</td>\n",
       "      <td>15520.532319</td>\n",
       "      <td>1.392837</td>\n",
       "      <td>28.646525</td>\n",
       "      <td>0.316839</td>\n",
       "      <td>13.286361</td>\n",
       "      <td>0.325454</td>\n",
       "    </tr>\n",
       "    <tr>\n",
       "      <th>min</th>\n",
       "      <td>1.000000</td>\n",
       "      <td>0.000000</td>\n",
       "      <td>2.000000</td>\n",
       "      <td>1.000000</td>\n",
       "      <td>0.000000</td>\n",
       "      <td>13.000000</td>\n",
       "      <td>0.000000</td>\n",
       "    </tr>\n",
       "    <tr>\n",
       "      <th>25%</th>\n",
       "      <td>6.000000</td>\n",
       "      <td>0.000000</td>\n",
       "      <td>3.000000</td>\n",
       "      <td>5.000000</td>\n",
       "      <td>0.000000</td>\n",
       "      <td>18.000000</td>\n",
       "      <td>0.000000</td>\n",
       "    </tr>\n",
       "    <tr>\n",
       "      <th>50%</th>\n",
       "      <td>14.000000</td>\n",
       "      <td>2.000000</td>\n",
       "      <td>3.000000</td>\n",
       "      <td>5.000000</td>\n",
       "      <td>0.000000</td>\n",
       "      <td>21.000000</td>\n",
       "      <td>0.000000</td>\n",
       "    </tr>\n",
       "    <tr>\n",
       "      <th>75%</th>\n",
       "      <td>23.000000</td>\n",
       "      <td>7.000000</td>\n",
       "      <td>4.000000</td>\n",
       "      <td>5.000000</td>\n",
       "      <td>0.000000</td>\n",
       "      <td>27.000000</td>\n",
       "      <td>0.000000</td>\n",
       "    </tr>\n",
       "    <tr>\n",
       "      <th>max</th>\n",
       "      <td>50.000000</td>\n",
       "      <td>912377.000000</td>\n",
       "      <td>9.000000</td>\n",
       "      <td>820.000000</td>\n",
       "      <td>1.000000</td>\n",
       "      <td>112.000000</td>\n",
       "      <td>1.000000</td>\n",
       "    </tr>\n",
       "  </tbody>\n",
       "</table>\n",
       "</div>"
      ],
      "text/plain": [
       "       Number of Comments  Number of Subscribers  Membership Duration  \\\n",
       "count         3464.000000            3464.000000          3464.000000   \n",
       "mean            15.452367             304.318995             3.714781   \n",
       "std             10.862517           15520.532319             1.392837   \n",
       "min              1.000000               0.000000             2.000000   \n",
       "25%              6.000000               0.000000             3.000000   \n",
       "50%             14.000000               2.000000             3.000000   \n",
       "75%             23.000000               7.000000             4.000000   \n",
       "max             50.000000          912377.000000             9.000000   \n",
       "\n",
       "       Number of Uploads  Profanity in UserID          Age        Label  \n",
       "count        3464.000000          3464.000000  3464.000000  3464.000000  \n",
       "mean           10.288395             0.113164    24.879042     0.120381  \n",
       "std            28.646525             0.316839    13.286361     0.325454  \n",
       "min             1.000000             0.000000    13.000000     0.000000  \n",
       "25%             5.000000             0.000000    18.000000     0.000000  \n",
       "50%             5.000000             0.000000    21.000000     0.000000  \n",
       "75%             5.000000             0.000000    27.000000     0.000000  \n",
       "max           820.000000             1.000000   112.000000     1.000000  "
      ]
     },
     "execution_count": 10,
     "metadata": {},
     "output_type": "execute_result"
    }
   ],
   "source": [
    "df.describe()"
   ]
  },
  {
   "cell_type": "code",
   "execution_count": 11,
   "metadata": {},
   "outputs": [
    {
     "name": "stdout",
     "output_type": "stream",
     "text": [
      "Text                     [Does N.e.bodyelse Hear her Crazy ass Screamin...\n",
      "Number of Comments       [10, 3, 7, 34, 11, 12, 1, 19, 8, 6, 20, 16, 22...\n",
      "Number of Subscribers    [1, 0, 173, 76, 7, 25, 171, 5, 10, 4, 2, 28, 1...\n",
      "Membership Duration                               [3, 6, 5, 2, 4, 7, 8, 9]\n",
      "Number of Uploads        [3, 5, 1, 2, 34, 11, 4, 18, 8, 159, 6, 23, 191...\n",
      "Profanity in UserID                                                 [0, 1]\n",
      "Age                      [15, 31, 43, 44, 21, 27, 23, 56, 20, 26, 22, 3...\n",
      "Label                                                               [0, 1]\n",
      "dtype: object\n"
     ]
    }
   ],
   "source": [
    "unique_values_df = df.apply(pd.Series.unique)\n",
    "print(unique_values_df)"
   ]
  },
  {
   "cell_type": "code",
   "execution_count": 12,
   "metadata": {},
   "outputs": [
    {
     "name": "stdout",
     "output_type": "stream",
     "text": [
      "missing values:  Text                     0\n",
      "Number of Comments       0\n",
      "Number of Subscribers    0\n",
      "Membership Duration      0\n",
      "Number of Uploads        0\n",
      "Profanity in UserID      0\n",
      "Age                      0\n",
      "Label                    0\n",
      "dtype: int64\n"
     ]
    }
   ],
   "source": [
    "missing = df.isnull().sum()\n",
    "print(\"missing values: \", missing)"
   ]
  },
  {
   "cell_type": "markdown",
   "metadata": {},
   "source": [
    "#### There are no missing values \n"
   ]
  },
  {
   "cell_type": "code",
   "execution_count": 13,
   "metadata": {},
   "outputs": [],
   "source": [
    "\n",
    "stop_words = set(stopwords.words('english'))\n"
   ]
  },
  {
   "cell_type": "code",
   "execution_count": 14,
   "metadata": {},
   "outputs": [],
   "source": [
    "\n",
    "def preprocess_text(text):\n",
    "    tokens = word_tokenize(text)\n",
    "    tokens = [token.lower() for token in tokens if token.isalnum()]\n",
    "    tokens = [token for token in tokens if token not in stop_words]\n",
    "    return tokens\n"
   ]
  },
  {
   "cell_type": "code",
   "execution_count": 15,
   "metadata": {},
   "outputs": [],
   "source": [
    "df['processed_text'] = df['Text'].apply(preprocess_text)\n"
   ]
  },
  {
   "cell_type": "code",
   "execution_count": 16,
   "metadata": {},
   "outputs": [],
   "source": [
    "all_tokens = [token for sublist in df['processed_text'] for token in sublist]\n"
   ]
  },
  {
   "cell_type": "code",
   "execution_count": 17,
   "metadata": {},
   "outputs": [],
   "source": [
    "##Calculate word frequency\n",
    "word_freq = pd.Series(all_tokens).value_counts().sort_values(ascending=False)"
   ]
  },
  {
   "cell_type": "code",
   "execution_count": 18,
   "metadata": {},
   "outputs": [
    {
     "name": "stdout",
     "output_type": "stream",
     "text": [
      "like      5151\n",
      "love      3162\n",
      "lol       2463\n",
      "one       2340\n",
      "u         2328\n",
      "get       2264\n",
      "people    2100\n",
      "song      2087\n",
      "would     2054\n",
      "video     2013\n",
      "good      1981\n",
      "know      1858\n",
      "really    1751\n",
      "think     1630\n",
      "3         1463\n",
      "im        1429\n",
      "fuck      1328\n",
      "go        1316\n",
      "make      1310\n",
      "got       1307\n",
      "Name: count, dtype: int64\n"
     ]
    }
   ],
   "source": [
    "print(word_freq.head(20))"
   ]
  },
  {
   "cell_type": "code",
   "execution_count": 19,
   "metadata": {},
   "outputs": [
    {
     "data": {
      "image/png": "[encoded data removed]",
      "text/plain": [
       "<Figure size 1000x600 with 1 Axes>"
      ]
     },
     "metadata": {},
     "output_type": "display_data"
    }
   ],
   "source": [
    "# Visualization of Word Frequency\n",
    "plt.figure(figsize=(10, 6))\n",
    "word_freq.head(20).plot(kind='bar', color='skyblue')\n",
    "plt.title('Top 20 Most Frequent Words')\n",
    "plt.xlabel('Words')\n",
    "plt.ylabel('Frequency')\n",
    "plt.xticks(rotation=45, ha='right')\n",
    "plt.tight_layout()\n",
    "plt.show()"
   ]
  },
  {
   "cell_type": "code",
   "execution_count": 20,
   "metadata": {},
   "outputs": [],
   "source": [
    "# Topic Modeling using Latent Dirichlet Allocation (LDA)\n",
    "# Convert text data to document-term matrix\n",
    "vectorizer = CountVectorizer(max_df=0.95, min_df=2, stop_words='english')\n",
    "doc_term_matrix = vectorizer.fit_transform(df['Text'])\n",
    "\n"
   ]
  },
  {
   "cell_type": "code",
   "execution_count": 21,
   "metadata": {},
   "outputs": [
    {
     "data": {
      "text/html": [
       "<style>#sk-container-id-1 {color: black;}#sk-container-id-1 pre{padding: 0;}#sk-container-id-1 div.sk-toggleable {background-color: white;}#sk-container-id-1 label.sk-toggleable__label {cursor: pointer;display: block;width: 100%;margin-bottom: 0;padding: 0.3em;box-sizing: border-box;text-align: center;}#sk-container-id-1 label.sk-toggleable__label-arrow:before {content: \"▸\";float: left;margin-right: 0.25em;color: #696969;}#sk-container-id-1 label.sk-toggleable__label-arrow:hover:before {color: black;}#sk-container-id-1 div.sk-estimator:hover label.sk-toggleable__label-arrow:before {color: black;}#sk-container-id-1 div.sk-toggleable__content {max-height: 0;max-width: 0;overflow: hidden;text-align: left;background-color: #f0f8ff;}#sk-container-id-1 div.sk-toggleable__content pre {margin: 0.2em;color: black;border-radius: 0.25em;background-color: #f0f8ff;}#sk-container-id-1 input.sk-toggleable__control:checked~div.sk-toggleable__content {max-height: 200px;max-width: 100%;overflow: auto;}#sk-container-id-1 input.sk-toggleable__control:checked~label.sk-toggleable__label-arrow:before {content: \"▾\";}#sk-container-id-1 div.sk-estimator input.sk-toggleable__control:checked~label.sk-toggleable__label {background-color: #d4ebff;}#sk-container-id-1 div.sk-label input.sk-toggleable__control:checked~label.sk-toggleable__label {background-color: #d4ebff;}#sk-container-id-1 input.sk-hidden--visually {border: 0;clip: rect(1px 1px 1px 1px);clip: rect(1px, 1px, 1px, 1px);height: 1px;margin: -1px;overflow: hidden;padding: 0;position: absolute;width: 1px;}#sk-container-id-1 div.sk-estimator {font-family: monospace;background-color: #f0f8ff;border: 1px dotted black;border-radius: 0.25em;box-sizing: border-box;margin-bottom: 0.5em;}#sk-container-id-1 div.sk-estimator:hover {background-color: #d4ebff;}#sk-container-id-1 div.sk-parallel-item::after {content: \"\";width: 100%;border-bottom: 1px solid gray;flex-grow: 1;}#sk-container-id-1 div.sk-label:hover label.sk-toggleable__label {background-color: #d4ebff;}#sk-container-id-1 div.sk-serial::before {content: \"\";position: absolute;border-left: 1px solid gray;box-sizing: border-box;top: 0;bottom: 0;left: 50%;z-index: 0;}#sk-container-id-1 div.sk-serial {display: flex;flex-direction: column;align-items: center;background-color: white;padding-right: 0.2em;padding-left: 0.2em;position: relative;}#sk-container-id-1 div.sk-item {position: relative;z-index: 1;}#sk-container-id-1 div.sk-parallel {display: flex;align-items: stretch;justify-content: center;background-color: white;position: relative;}#sk-container-id-1 div.sk-item::before, #sk-container-id-1 div.sk-parallel-item::before {content: \"\";position: absolute;border-left: 1px solid gray;box-sizing: border-box;top: 0;bottom: 0;left: 50%;z-index: -1;}#sk-container-id-1 div.sk-parallel-item {display: flex;flex-direction: column;z-index: 1;position: relative;background-color: white;}#sk-container-id-1 div.sk-parallel-item:first-child::after {align-self: flex-end;width: 50%;}#sk-container-id-1 div.sk-parallel-item:last-child::after {align-self: flex-start;width: 50%;}#sk-container-id-1 div.sk-parallel-item:only-child::after {width: 0;}#sk-container-id-1 div.sk-dashed-wrapped {border: 1px dashed gray;margin: 0 0.4em 0.5em 0.4em;box-sizing: border-box;padding-bottom: 0.4em;background-color: white;}#sk-container-id-1 div.sk-label label {font-family: monospace;font-weight: bold;display: inline-block;line-height: 1.2em;}#sk-container-id-1 div.sk-label-container {text-align: center;}#sk-container-id-1 div.sk-container {/* jupyter's `normalize.less` sets `[hidden] { display: none; }` but bootstrap.min.css set `[hidden] { display: none !important; }` so we also need the `!important` here to be able to override the default hidden behavior on the sphinx rendered scikit-learn.org. See: https://github.com/scikit-learn/scikit-learn/issues/21755 */display: inline-block !important;position: relative;}#sk-container-id-1 div.sk-text-repr-fallback {display: none;}</style><div id=\"sk-container-id-1\" class=\"sk-top-container\"><div class=\"sk-text-repr-fallback\"><pre>LatentDirichletAllocation(n_components=5, random_state=42)</pre><b>In a Jupyter environment, please rerun this cell to show the HTML representation or trust the notebook. <br />On GitHub, the HTML representation is unable to render, please try loading this page with nbviewer.org.</b></div><div class=\"sk-container\" hidden><div class=\"sk-item\"><div class=\"sk-estimator sk-toggleable\"><input class=\"sk-toggleable__control sk-hidden--visually\" id=\"sk-estimator-id-1\" type=\"checkbox\" checked><label for=\"sk-estimator-id-1\" class=\"sk-toggleable__label sk-toggleable__label-arrow\">LatentDirichletAllocation</label><div class=\"sk-toggleable__content\"><pre>LatentDirichletAllocation(n_components=5, random_state=42)</pre></div></div></div></div></div>"
      ],
      "text/plain": [
       "LatentDirichletAllocation(n_components=5, random_state=42)"
      ]
     },
     "execution_count": 21,
     "metadata": {},
     "output_type": "execute_result"
    }
   ],
   "source": [
    "# Initialize LDA model\n",
    "num_topics = 5  # Number of topics to extract\n",
    "lda_model = LatentDirichletAllocation(n_components=num_topics, random_state=42)\n",
    "# Fit LDA model to the document-term matrix\n",
    "lda_model.fit(doc_term_matrix)"
   ]
  },
  {
   "cell_type": "code",
   "execution_count": 22,
   "metadata": {},
   "outputs": [],
   "source": [
    "# Function to display topics and associated words\n",
    "def display_topics(model, feature_names, num_top_words):\n",
    "    for topic_idx, topic in enumerate(model.components_):\n",
    "        print(f\"Topic {topic_idx + 1}:\")\n",
    "        print(\" \".join([feature_names[i] for i in topic.argsort()[:-num_top_words - 1:-1]]))"
   ]
  },
  {
   "cell_type": "code",
   "execution_count": 23,
   "metadata": {},
   "outputs": [
    {
     "name": "stdout",
     "output_type": "stream",
     "text": [
      "\n",
      "Top 10 words for each topic:\n",
      "Topic 1:\n",
      "love ur song good video amazing really ich die voice\n",
      "Topic 2:\n",
      "like just love lol song video know good im really\n",
      "Topic 3:\n",
      "que la en te el si es para se est\n",
      "Topic 4:\n",
      "people just like don know think god good way make\n",
      "Topic 5:\n",
      "like just watch make good fuck don video fucking shit\n"
     ]
    }
   ],
   "source": [
    "# Display the topics and associated words\n",
    "num_top_words = 10\n",
    "feature_names = vectorizer.get_feature_names_out()  # Retrieve feature names\n",
    "print(f\"\\nTop {num_top_words} words for each topic:\")\n",
    "display_topics(lda_model, feature_names, num_top_words)"
   ]
  },
  {
   "cell_type": "code",
   "execution_count": 24,
   "metadata": {},
   "outputs": [],
   "source": [
    "\n",
    "# Function to perform sentiment analysis on text data\n",
    "def analyze_sentiment(text):\n",
    "    analysis = TextBlob(text)\n",
    "    # Get the sentiment polarity (-1 to 1)\n",
    "    sentiment_polarity = analysis.sentiment.polarity\n",
    "    # Return the sentiment polarity\n",
    "    return sentiment_polarity\n",
    "\n",
    "# Apply sentiment analysis to each text entry in the DataFrame\n",
    "df['Sentiment_Polarity'] = df['Text'].apply(analyze_sentiment)\n",
    "\n",
    "# Classify sentiment labels based on polarity values\n",
    "def classify_sentiment(polarity):\n",
    "    if polarity > 0:\n",
    "        return 'Positive'\n",
    "    elif polarity < 0:\n",
    "        return 'Negative'\n",
    "    else:\n",
    "        return 'Neutral'"
   ]
  },
  {
   "cell_type": "code",
   "execution_count": 25,
   "metadata": {},
   "outputs": [
    {
     "name": "stdout",
     "output_type": "stream",
     "text": [
      "                                                   Text  Sentiment_Polarity  \\\n",
      "0     Does N.e.bodyelse Hear her Crazy ass Screamin ...           -0.040000   \n",
      "1     There are so many things that are incorrect wi...           -0.110606   \n",
      "2     3:26 hahah my boyfriend showed this song to me...            0.433333   \n",
      "3     dick beyonce fuck y a ass hole you are truely ...           -0.186975   \n",
      "4     DongHaeTaemin and Kai ;A; luhansehun and bacon...            0.482143   \n",
      "...                                                 ...                 ...   \n",
      "3459  She pretty I love this song I miss the old kel...            0.304464   \n",
      "3460  Status-Online Im ZxkillergirlzX! I'm Zxkillerg...            0.000000   \n",
      "3461  JR so cute EXO M Better I agree like yeah yeah...            0.370833   \n",
      "3462                                                ! !            0.000000   \n",
      "3463  great video and MERRY CHRISTMAS from greece :*...            0.332612   \n",
      "\n",
      "     Sentiment_Label  \n",
      "0           Negative  \n",
      "1           Negative  \n",
      "2           Positive  \n",
      "3           Negative  \n",
      "4           Positive  \n",
      "...              ...  \n",
      "3459        Positive  \n",
      "3460         Neutral  \n",
      "3461        Positive  \n",
      "3462         Neutral  \n",
      "3463        Positive  \n",
      "\n",
      "[3464 rows x 3 columns]\n"
     ]
    }
   ],
   "source": [
    "\n",
    "# Apply sentiment label classification to each sentiment polarity\n",
    "df['Sentiment_Label'] = df['Sentiment_Polarity'].apply(classify_sentiment)\n",
    "\n",
    "# Display the DataFrame with sentiment analysis results\n",
    "print(df[['Text', 'Sentiment_Polarity', 'Sentiment_Label']])\n",
    "\n"
   ]
  },
  {
   "cell_type": "markdown",
   "metadata": {},
   "source": [
    "#### Finding the number of positive negative and neutral sentiments"
   ]
  },
  {
   "cell_type": "code",
   "execution_count": 26,
   "metadata": {},
   "outputs": [
    {
     "name": "stdout",
     "output_type": "stream",
     "text": [
      "Number of Positive Sentiments: 2808\n",
      "Number of Neutral Sentiments: 166\n",
      "Number of Negative Sentiments: 490\n"
     ]
    }
   ],
   "source": [
    "# Count the occurrences of each sentiment label\n",
    "sentiment_counts = df['Sentiment_Label'].value_counts()\n",
    "\n",
    "# Print the counts of positive, neutral, and negative sentiments\n",
    "print(\"Number of Positive Sentiments:\", sentiment_counts.get('Positive', 0))\n",
    "print(\"Number of Neutral Sentiments:\", sentiment_counts.get('Neutral', 0))\n",
    "print(\"Number of Negative Sentiments:\", sentiment_counts.get('Negative', 0))"
   ]
  },
  {
   "cell_type": "code",
   "execution_count": 27,
   "metadata": {},
   "outputs": [
    {
     "name": "stdout",
     "output_type": "stream",
     "text": [
      "                                                   Text  Sentiment_Polarity  \\\n",
      "0     Does N.e.bodyelse Hear her Crazy ass Screamin ...           -0.040000   \n",
      "1     There are so many things that are incorrect wi...           -0.110606   \n",
      "2     3:26 hahah my boyfriend showed this song to me...            0.433333   \n",
      "3     dick beyonce fuck y a ass hole you are truely ...           -0.186975   \n",
      "4     DongHaeTaemin and Kai ;A; luhansehun and bacon...            0.482143   \n",
      "...                                                 ...                 ...   \n",
      "3459  She pretty I love this song I miss the old kel...            0.304464   \n",
      "3460  Status-Online Im ZxkillergirlzX! I'm Zxkillerg...            0.000000   \n",
      "3461  JR so cute EXO M Better I agree like yeah yeah...            0.370833   \n",
      "3462                                                ! !            0.000000   \n",
      "3463  great video and MERRY CHRISTMAS from greece :*...            0.332612   \n",
      "\n",
      "     Sentiment_Label  Sentiment  \n",
      "0           Negative          1  \n",
      "1           Negative          1  \n",
      "2           Positive          0  \n",
      "3           Negative          1  \n",
      "4           Positive          0  \n",
      "...              ...        ...  \n",
      "3459        Positive          0  \n",
      "3460         Neutral          1  \n",
      "3461        Positive          0  \n",
      "3462         Neutral          1  \n",
      "3463        Positive          0  \n",
      "\n",
      "[3464 rows x 4 columns]\n",
      "Number of Positive or Neutral Sentiments: 2808\n",
      "Number of Negative Sentiments: 656\n"
     ]
    }
   ],
   "source": [
    "\n",
    "\n",
    "# Classify sentiment labels based on polarity values\n",
    "def classify_sentiment(polarity):\n",
    "    if polarity > 0:\n",
    "        return 0  # Positive or Neutral sentiment\n",
    "    else:\n",
    "        return 1  # Negative sentiment\n",
    "\n",
    "# Apply sentiment label classification to each sentiment polarity\n",
    "df['Sentiment'] = df['Sentiment_Polarity'].apply(classify_sentiment)\n",
    "\n",
    "# Display the DataFrame with sentiment analysis results and the new sentiment column\n",
    "print(df[['Text', 'Sentiment_Polarity', 'Sentiment_Label', 'Sentiment']])\n",
    "\n",
    "# Count the occurrences of each sentiment label\n",
    "sentiment_counts = df['Sentiment'].value_counts()\n",
    "\n",
    "# Print the counts of positive and negative sentiments\n",
    "print(\"Number of Positive or Neutral Sentiments:\", sentiment_counts.get(0, 0))\n",
    "print(\"Number of Negative Sentiments:\", sentiment_counts.get(1, 0))\n"
   ]
  },
  {
   "cell_type": "code",
   "execution_count": 28,
   "metadata": {},
   "outputs": [],
   "source": [
    "from sklearn.feature_extraction.text import TfidfVectorizer\n",
    "\n",
    "# Assuming 'dataset' is your DataFrame and 'Text' is the column containing text data\n",
    "text_data = df['Text']\n",
    "\n",
    "# Create a TF-IDF vectorizer\n",
    "tfidf_vectorizer = TfidfVectorizer()\n",
    "\n",
    "# Fit and transform the text data to TF-IDF matrix\n",
    "tfidf_matrix = tfidf_vectorizer.fit_transform(text_data)\n",
    "\n",
    "# Convert TF-IDF matrix to a DataFrame (optional)\n",
    "tfidf_df = pd.DataFrame(tfidf_matrix.toarray(), columns=tfidf_vectorizer.get_feature_names_out())\n",
    "\n",
    "\n"
   ]
  },
  {
   "cell_type": "code",
   "execution_count": 29,
   "metadata": {},
   "outputs": [
    {
     "name": "stdout",
     "output_type": "stream",
     "text": [
      "\n",
      "Top 10 words for each topic:\n",
      "Topic 1:\n",
      "like just people don know video think fucking fuck really\n",
      "Topic 2:\n",
      "love song amazing omg voice cute good great beautiful really\n",
      "Topic 3:\n",
      "que la el es en se lo por los si\n",
      "Topic 4:\n",
      "lol ur xd im lmao dont like funny omg got\n",
      "Topic 5:\n",
      "ich ist das und die du der nicht ein es\n"
     ]
    }
   ],
   "source": [
    "from sklearn.feature_extraction.text import TfidfVectorizer\n",
    "from sklearn.decomposition import NMF\n",
    "\n",
    "# Preprocess the text data\n",
    "# Assuming 'Text' is the column name containing text data\n",
    "text_data = df['Text']\n",
    "\n",
    "# Create a TF-IDF vectorizer\n",
    "tfidf_vectorizer = TfidfVectorizer(max_df=0.95, min_df=2, stop_words='english')\n",
    "\n",
    "# Fit and transform the text data to TF-IDF matrix\n",
    "tfidf_matrix = tfidf_vectorizer.fit_transform(text_data)\n",
    "\n",
    "# Apply NMF to discover topics\n",
    "num_topics = 5  # Define the number of topics\n",
    "nmf_model = NMF(n_components=num_topics, random_state=42)\n",
    "\n",
    "# Fit NMF model to the TF-IDF matrix\n",
    "nmf_model.fit(tfidf_matrix)\n",
    "\n",
    "# Display the top words for each topic\n",
    "def display_topics(model, feature_names, num_top_words):\n",
    "    for topic_idx, topic in enumerate(model.components_):\n",
    "        print(f\"Topic {topic_idx + 1}:\")\n",
    "        print(\" \".join([feature_names[i] for i in topic.argsort()[:-num_top_words - 1:-1]]))\n",
    "\n",
    "num_top_words = 10  # Number of top words to display for each topic\n",
    "print(f\"\\nTop {num_top_words} words for each topic:\")\n",
    "display_topics(nmf_model, tfidf_vectorizer.get_feature_names_out(), num_top_words)"
   ]
  },
  {
   "cell_type": "code",
   "execution_count": 30,
   "metadata": {},
   "outputs": [
    {
     "name": "stdout",
     "output_type": "stream",
     "text": [
      "Identifying topics related to criminal behavior:\n",
      "\n",
      "Topic 1:\n",
      "like just people don know video think fucking fuck really\n",
      "\n",
      "Topic 2:\n",
      "love song amazing omg voice cute good great beautiful really\n",
      "\n",
      "Topic 3:\n",
      "que la el es en se lo por los si\n",
      "\n",
      "Topic 4:\n",
      "lol ur xd im lmao dont like funny omg got\n",
      "\n",
      "Topic 5:\n",
      "ich ist das und die du der nicht ein es\n",
      "\n",
      "Top words related to criminal behavior:\n",
      "\n",
      "Topic 1:\n",
      "like just people don know video think fucking fuck really\n",
      "\n",
      "Topic 3:\n",
      "que la el es en se lo por los si\n"
     ]
    }
   ],
   "source": [
    "# Display topics and identify relevant topics related to criminal behavior\n",
    "num_top_words = 10  # Number of top words to display for each topic\n",
    "\n",
    "print(\"Identifying topics related to criminal behavior:\")\n",
    "for topic_idx, topic in enumerate(nmf_model.components_):\n",
    "    topic_words = [tfidf_vectorizer.get_feature_names_out()[i] for i in topic.argsort()[:-num_top_words - 1:-1]]\n",
    "    print(f\"\\nTopic {topic_idx + 1}:\")\n",
    "    print(\" \".join(topic_words))\n",
    "\n",
    "# Identify relevant topics related to criminal behavior based on the context of the words\n",
    "relevant_topics = [0, 2]  # Assuming topics 0 and 2 are related to criminal behavior\n",
    "\n",
    "# Inspect top words associated with relevant topics\n",
    "print(\"\\nTop words related to criminal behavior:\")\n",
    "for topic_idx in relevant_topics:\n",
    "    topic_words = [tfidf_vectorizer.get_feature_names_out()[i] for i in nmf_model.components_[topic_idx].argsort()[:-num_top_words - 1:-1]]\n",
    "    print(f\"\\nTopic {topic_idx + 1}:\")\n",
    "    print(\" \".join(topic_words))"
   ]
  },
  {
   "cell_type": "code",
   "execution_count": 31,
   "metadata": {},
   "outputs": [],
   "source": [
    "# Define a list of cursed words\n",
    "cursed_words = ['fuck', 'shit', 'asshole', 'bitch', 'damn', 'crap', 'hell', 'bastard', 'piss', 'dick','pussy', 'mf','mother fucker', 'behenchod']\n",
    "\n",
    "# Function to count cursed words in a text\n",
    "def count_cursed_words(text):\n",
    "    count = 0\n",
    "    for word in text.split():\n",
    "        if word.lower() in cursed_words:\n",
    "            count += 1\n",
    "    return count\n",
    "\n",
    "# Add a new column for the number of cursed words\n",
    "df['No_of_Cursed_Words'] = df['Text'].apply(count_cursed_words)\n",
    "\n",
    "\n"
   ]
  },
  {
   "cell_type": "code",
   "execution_count": 32,
   "metadata": {},
   "outputs": [
    {
     "data": {
      "text/plain": [
       "No_of_Cursed_Words\n",
       "0     2056\n",
       "1      604\n",
       "2      295\n",
       "3      173\n",
       "4      111\n",
       "5       93\n",
       "6       41\n",
       "7       27\n",
       "8       20\n",
       "9       15\n",
       "10       7\n",
       "11       6\n",
       "13       4\n",
       "14       3\n",
       "12       3\n",
       "21       1\n",
       "22       1\n",
       "25       1\n",
       "18       1\n",
       "27       1\n",
       "17       1\n",
       "Name: count, dtype: int64"
      ]
     },
     "execution_count": 32,
     "metadata": {},
     "output_type": "execute_result"
    }
   ],
   "source": [
    "df['No_of_Cursed_Words'].value_counts()"
   ]
  },
  {
   "cell_type": "code",
   "execution_count": 33,
   "metadata": {},
   "outputs": [
    {
     "name": "stdout",
     "output_type": "stream",
     "text": [
      "                                                Text  Number of Comments  \\\n",
      "0  Does N.e.bodyelse Hear her Crazy ass Screamin ...                  10   \n",
      "1  There are so many things that are incorrect wi...                   3   \n",
      "2  3:26 hahah my boyfriend showed this song to me...                   7   \n",
      "3  dick beyonce fuck y a ass hole you are truely ...                  34   \n",
      "4  DongHaeTaemin and Kai ;A; luhansehun and bacon...                  11   \n",
      "\n",
      "   Number of Subscribers  Membership Duration  Number of Uploads  \\\n",
      "0                      1                    3                  3   \n",
      "1                      0                    6                  5   \n",
      "2                      0                    3                  5   \n",
      "3                      0                    3                  5   \n",
      "4                    173                    5                  5   \n",
      "\n",
      "   Profanity in UserID  Age  Label  \\\n",
      "0                    0   15      0   \n",
      "1                    0   31      0   \n",
      "2                    0   43      1   \n",
      "3                    0   44      1   \n",
      "4                    0   21      0   \n",
      "\n",
      "                                      processed_text  Sentiment_Polarity  ...  \\\n",
      "0  [hear, crazy, ass, screamin, hoe, everytime, s...           -0.040000  ...   \n",
      "1  [many, things, incorrect, comment, unbelievabl...           -0.110606  ...   \n",
      "2  [hahah, boyfriend, showed, song, love, tooo, s...            0.433333  ...   \n",
      "3  [dick, beyonce, fuck, ass, hole, truely, dog, ...           -0.186975  ...   \n",
      "4  [donghaetaemin, kai, luhansehun, bacon, xd, ta...            0.482143  ...   \n",
      "\n",
      "    zy  zyan  zyjesz  zyn  zyra  zyzz   zz  zzzzz  zzzzzz  \\\n",
      "0  0.0   0.0     0.0  0.0   0.0   0.0  0.0    0.0     0.0   \n",
      "1  0.0   0.0     0.0  0.0   0.0   0.0  0.0    0.0     0.0   \n",
      "2  0.0   0.0     0.0  0.0   0.0   0.0  0.0    0.0     0.0   \n",
      "3  0.0   0.0     0.0  0.0   0.0   0.0  0.0    0.0     0.0   \n",
      "4  0.0   0.0     0.0  0.0   0.0   0.0  0.0    0.0     0.0   \n",
      "\n",
      "   zzzzzzzzzzzzzzzzzzzzzzzzzzzzzzz  \n",
      "0                              0.0  \n",
      "1                              0.0  \n",
      "2                              0.0  \n",
      "3                              0.0  \n",
      "4                              0.0  \n",
      "\n",
      "[5 rows x 47872 columns]\n"
     ]
    }
   ],
   "source": [
    "import pandas as pd\n",
    "from sklearn.feature_extraction.text import TfidfVectorizer\n",
    "\n",
    "# Assuming 'dataset' is your DataFrame and 'Text' is the column containing text data\n",
    "text_data = df['Text']\n",
    "\n",
    "# Create a TF-IDF vectorizer\n",
    "tfidf_vectorizer = TfidfVectorizer()\n",
    "\n",
    "# Fit and transform the text data to TF-IDF matrix\n",
    "tfidf_matrix = tfidf_vectorizer.fit_transform(text_data)\n",
    "\n",
    "# Convert TF-IDF matrix to a DataFrame\n",
    "tfidf_df = pd.DataFrame(tfidf_matrix.toarray(), columns=tfidf_vectorizer.get_feature_names_out())\n",
    "\n",
    "# Concatenate the TF-IDF DataFrame with the original dataset\n",
    "dataset_with_tfidf = pd.concat([df, tfidf_df], axis=1)\n",
    "\n",
    "# Display the dataset with TF-IDF scores\n",
    "print(dataset_with_tfidf.head())\n"
   ]
  },
  {
   "cell_type": "code",
   "execution_count": 34,
   "metadata": {},
   "outputs": [
    {
     "data": {
      "image/png": "[encoded data removed]",
      "text/plain": [
       "<Figure size 1200x1000 with 2 Axes>"
      ]
     },
     "metadata": {},
     "output_type": "display_data"
    }
   ],
   "source": [
    "import seaborn as sns\n",
    "import matplotlib.pyplot as plt\n",
    "\n",
    "# Remove columns containing non-numeric values\n",
    "numeric_df = df.select_dtypes(include='number')\n",
    "\n",
    "# Calculate the correlation matrix\n",
    "corr_matrix = numeric_df.corr()\n",
    "\n",
    "# Create a heatmap\n",
    "plt.figure(figsize=(12, 10))\n",
    "sns.heatmap(corr_matrix, annot=True, cmap='coolwarm', fmt=\".2f\", annot_kws={\"size\": 8})\n",
    "plt.title('Correlation Matrix Heatmap')\n",
    "plt.show()\n"
   ]
  },
  {
   "cell_type": "code",
   "execution_count": 35,
   "metadata": {},
   "outputs": [
    {
     "data": {
      "text/plain": [
       "Index(['Text', 'Number of Comments', 'Number of Subscribers',\n",
       "       'Membership Duration', 'Number of Uploads', 'Profanity in UserID',\n",
       "       'Age', 'Label', 'processed_text', 'Sentiment_Polarity',\n",
       "       'Sentiment_Label', 'Sentiment', 'No_of_Cursed_Words'],\n",
       "      dtype='object')"
      ]
     },
     "execution_count": 35,
     "metadata": {},
     "output_type": "execute_result"
    }
   ],
   "source": [
    "df.columns"
   ]
  },
  {
   "cell_type": "code",
   "execution_count": 39,
   "metadata": {},
   "outputs": [
    {
     "ename": "NameError",
     "evalue": "name 'dataset' is not defined",
     "output_type": "error",
     "traceback": [
      "\u001b[1;31m---------------------------------------------------------------------------\u001b[0m",
      "\u001b[1;31mNameError\u001b[0m                                 Traceback (most recent call last)",
      "Cell \u001b[1;32mIn[39], line 9\u001b[0m\n\u001b[0;32m      7\u001b[0m \u001b[38;5;66;03m# Create the bar plot\u001b[39;00m\n\u001b[0;32m      8\u001b[0m plt\u001b[38;5;241m.\u001b[39mfigure(figsize\u001b[38;5;241m=\u001b[39m(\u001b[38;5;241m8\u001b[39m, \u001b[38;5;241m6\u001b[39m))\n\u001b[1;32m----> 9\u001b[0m ax \u001b[38;5;241m=\u001b[39m sns\u001b[38;5;241m.\u001b[39mcountplot(x\u001b[38;5;241m=\u001b[39m\u001b[38;5;124m'\u001b[39m\u001b[38;5;124mProfanity in UserID\u001b[39m\u001b[38;5;124m'\u001b[39m, hue\u001b[38;5;241m=\u001b[39m\u001b[38;5;124m'\u001b[39m\u001b[38;5;124mSentiment\u001b[39m\u001b[38;5;124m'\u001b[39m, data\u001b[38;5;241m=\u001b[39m\u001b[43mdataset\u001b[49m)\n\u001b[0;32m     11\u001b[0m \u001b[38;5;66;03m# Add text annotations above each bar\u001b[39;00m\n\u001b[0;32m     12\u001b[0m \u001b[38;5;28;01mfor\u001b[39;00m p \u001b[38;5;129;01min\u001b[39;00m ax\u001b[38;5;241m.\u001b[39mpatches:\n",
      "\u001b[1;31mNameError\u001b[0m: name 'dataset' is not defined"
     ]
    },
    {
     "data": {
      "text/plain": [
       "<Figure size 800x600 with 0 Axes>"
      ]
     },
     "metadata": {},
     "output_type": "display_data"
    }
   ],
   "source": [
    "import seaborn as sns\n",
    "import matplotlib.pyplot as plt\n",
    "\n",
    "# Set the style of the seaborn plots\n",
    "sns.set(style=\"whitegrid\")\n",
    "\n",
    "# Create the bar plot\n",
    "plt.figure(figsize=(8, 6))\n",
    "ax = sns.countplot(x='Profanity in UserID', hue='Sentiment', data=dataset)\n",
    "\n",
    "# Add text annotations above each bar\n",
    "for p in ax.patches:\n",
    "    ax.annotate(f'{p.get_height()}', (p.get_x() + p.get_width() / 2., p.get_height()),\n",
    "                ha='center', va='center', fontsize=10, color='black', xytext=(0, 5),\n",
    "                textcoords='offset points')\n",
    "\n",
    "plt.title('Distribution of Profanity in User ID by Sentiment')\n",
    "plt.xlabel('Profanity in User ID')\n",
    "plt.ylabel('Count')\n",
    "plt.legend(title='Sentiment', loc='upper right')\n",
    "plt.show()\n"
   ]
  },
  {
   "cell_type": "code",
   "execution_count": 40,
   "metadata": {},
   "outputs": [
    {
     "data": {
      "text/plain": [
       "Index(['Text', 'Number of Comments', 'Number of Subscribers',\n",
       "       'Membership Duration', 'Number of Uploads', 'Profanity in UserID',\n",
       "       'Age', 'Label', 'processed_text', 'Sentiment_Polarity',\n",
       "       'Sentiment_Label', 'Sentiment', 'No_of_Cursed_Words'],\n",
       "      dtype='object')"
      ]
     },
     "execution_count": 40,
     "metadata": {},
     "output_type": "execute_result"
    }
   ],
   "source": [
    "df.columns"
   ]
  },
  {
   "cell_type": "code",
   "execution_count": 41,
   "metadata": {},
   "outputs": [
    {
     "name": "stdout",
     "output_type": "stream",
     "text": [
      "Numerical columns: ['Number of Comments', 'Number of Subscribers', 'Membership Duration', 'Number of Uploads', 'Profanity in UserID', 'Age', 'Label', 'Sentiment_Polarity', 'Sentiment', 'No_of_Cursed_Words']\n"
     ]
    }
   ],
   "source": [
    "# Get the data types of each column in the dataset\n",
    "column_data_types = df.dtypes\n",
    "\n",
    "# Identify numerical columns (those with numeric data types)\n",
    "numerical_columns = column_data_types[column_data_types != 'object'].index.tolist()\n",
    "\n",
    "# Remove the target variable ('oh_label') from numerical_columns if needed\n",
    "if 'oh_label' in numerical_columns:\n",
    "    numerical_columns.remove('oh_label')\n",
    "\n",
    "print(\"Numerical columns:\", numerical_columns)\n"
   ]
  },
  {
   "cell_type": "code",
   "execution_count": 42,
   "metadata": {},
   "outputs": [
    {
     "ename": "NameError",
     "evalue": "name 'RandomOverSampler' is not defined",
     "output_type": "error",
     "traceback": [
      "\u001b[1;31m---------------------------------------------------------------------------\u001b[0m",
      "\u001b[1;31mNameError\u001b[0m                                 Traceback (most recent call last)",
      "Cell \u001b[1;32mIn[42], line 2\u001b[0m\n\u001b[0;32m      1\u001b[0m \u001b[38;5;66;03m# Step 2: Oversample the data using RandomOverSampler to reduce imbalance between Labels (Bullying and non bullying)\u001b[39;00m\n\u001b[1;32m----> 2\u001b[0m ros \u001b[38;5;241m=\u001b[39m \u001b[43mRandomOverSampler\u001b[49m(random_state\u001b[38;5;241m=\u001b[39m\u001b[38;5;241m42\u001b[39m)\n\u001b[0;32m      3\u001b[0m X \u001b[38;5;241m=\u001b[39m df[\u001b[38;5;124m'\u001b[39m\u001b[38;5;124mText\u001b[39m\u001b[38;5;124m'\u001b[39m]\u001b[38;5;241m.\u001b[39mvalues\u001b[38;5;241m.\u001b[39mreshape(\u001b[38;5;241m-\u001b[39m\u001b[38;5;241m1\u001b[39m, \u001b[38;5;241m1\u001b[39m)\n\u001b[0;32m      4\u001b[0m y \u001b[38;5;241m=\u001b[39m df[\u001b[38;5;124m'\u001b[39m\u001b[38;5;124mLabel\u001b[39m\u001b[38;5;124m'\u001b[39m]\u001b[38;5;241m.\u001b[39mvalues\n",
      "\u001b[1;31mNameError\u001b[0m: name 'RandomOverSampler' is not defined"
     ]
    }
   ],
   "source": [
    "# Step 2: Oversample the data using RandomOverSampler to reduce imbalance between Labels (Bullying and non bullying)\n",
    "ros = RandomOverSampler(random_state=42)\n",
    "X = df['Text'].values.reshape(-1, 1)\n",
    "y = df['Label'].values\n",
    "X_resampled, y_resampled = ros.fit_resample(X, y)\n",
    "\n",
    "# convert text (object) data to string for w2v\n",
    "X_resampled= [str(obj) for obj in X_resampled]\n",
    "X_resampled = np.array(X_resampled)\n"
   ]
  },
  {
   "cell_type": "code",
   "execution_count": null,
   "metadata": {},
   "outputs": [],
   "source": [
    "from sklearn.model_selection import train_test_split\n",
    "from sklearn.linear_model import LogisticRegression\n",
    "from sklearn.ensemble import RandomForestClassifier\n",
    "from sklearn.metrics import accuracy_score, classification_report"
   ]
  },
  {
   "cell_type": "code",
   "execution_count": null,
   "metadata": {},
   "outputs": [],
   "source": [
    "# Assuming 'oh_label' is the target variable and 'Profanity in User ID' is a feature\n",
    "X = df['processed_text']\n",
    "y = df['Label']\n",
    "\n"
   ]
  },
  {
   "cell_type": "markdown",
   "metadata": {},
   "source": []
  },
  {
   "cell_type": "code",
   "execution_count": null,
   "metadata": {},
   "outputs": [],
   "source": []
  }
 ],
 "metadata": {
  "kernelspec": {
   "display_name": "Python 3",
   "language": "python",
   "name": "python3"
  },
  "language_info": {
   "codemirror_mode": {
    "name": "ipython",
    "version": 3
   },
   "file_extension": ".py",
   "mimetype": "text/x-python",
   "name": "python",
   "nbconvert_exporter": "python",
   "pygments_lexer": "ipython3",
   "version": "3.12.1"
  }
 },
 "nbformat": 4,
 "nbformat_minor": 2
}
